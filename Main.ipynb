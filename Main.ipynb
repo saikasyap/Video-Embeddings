{
 "cells": [
  {
   "cell_type": "code",
   "execution_count": 1,
   "metadata": {},
   "outputs": [
    {
     "name": "stderr",
     "output_type": "stream",
     "text": [
      "Using TensorFlow backend.\n"
     ]
    }
   ],
   "source": [
    "import skvideo.io\n",
    "import keras.backend as K\n",
    "from keras.models import Sequential, Model\n",
    "from keras.utils.data_utils import get_file\n",
    "from keras.layers.core import Dense, Dropout, Flatten\n",
    "from keras.layers.convolutional import Conv3D, MaxPooling3D, ZeroPadding3D\n",
    "import numpy as np\n",
    "from os.path import isfile, join\n",
    "import numpy as np\n",
    "import pandas as pd\n",
    "import cv2\n",
    "import math\n",
    "import matplotlib.pyplot as plt   \n",
    "from skimage.transform import resize\n",
    "import keras\n",
    "from keras.layers import Dense, Flatten, Conv3D, MaxPooling3D, Dropout, BatchNormalization\n",
    "from keras.utils import to_categorical\n",
    "import numpy as np\n",
    "import matplotlib.pyplot as plt\n",
    "import h5py\n",
    "import tensorflow as tf\n",
    "from keras import backend as K\n",
    "K.clear_session()\n",
    "import os\n",
    "os.environ[\"CUDA_DEVICE_ORDER\"] = \"PCI_BUS_ID\"   #if like me you do not have a lot of memory in your GPU\n",
    "os.environ[\"CUDA_VISIBLE_DEVICES\"] = \"\" #then these two lines force keras to use your CPU\n",
    "from keras.callbacks import EarlyStopping"
   ]
  },
  {
   "cell_type": "code",
   "execution_count": 2,
   "metadata": {},
   "outputs": [],
   "source": [
    "count = 0\n",
    "videoFile = \"/home/til/Video/data/Fun2.mp4\"\n",
    "videoCapture = cv2.VideoCapture(videoFile)   # capturing the video from the given path\n",
    "frameRate = videoCapture.get(5) # frame rate say for every 5 second\n",
    "x=1\n",
    "while(videoCapture.isOpened()):\n",
    "    frameId = videoCapture.get(1) #current frame number\n",
    "    ret, frame = videoCapture.read()\n",
    "    if (ret != True):\n",
    "        break\n",
    "    if (frameId % math.floor(frameRate) == 0):\n",
    "        filename =\"/home/til/Video/code/Images/frame%d.jpg\" % count;count+=1\n",
    "        cv2.imwrite(filename, frame)\n",
    "videoCapture.release()"
   ]
  },
  {
   "cell_type": "code",
   "execution_count": 15,
   "metadata": {},
   "outputs": [
    {
     "name": "stdout",
     "output_type": "stream",
     "text": [
      "['frame0.jpg', 'frame1.jpg', 'frame10.jpg', 'frame11.jpg', 'frame12.jpg', 'frame13.jpg', 'frame14.jpg', 'frame15.jpg', 'frame16.jpg', 'frame17.jpg', 'frame18.jpg', 'frame19.jpg', 'frame2.jpg', 'frame20.jpg', 'frame21.jpg', 'frame22.jpg', 'frame23.jpg', 'frame24.jpg', 'frame25.jpg', 'frame26.jpg', 'frame27.jpg', 'frame28.jpg', 'frame29.jpg', 'frame3.jpg', 'frame30.jpg', 'frame31.jpg', 'frame32.jpg', 'frame33.jpg', 'frame34.jpg', 'frame35.jpg', 'frame36.jpg', 'frame37.jpg', 'frame38.jpg', 'frame39.jpg', 'frame4.jpg', 'frame40.jpg', 'frame41.jpg', 'frame42.jpg', 'frame43.jpg', 'frame44.jpg', 'frame45.jpg', 'frame46.jpg', 'frame47.jpg', 'frame48.jpg', 'frame49.jpg', 'frame5.jpg', 'frame50.jpg', 'frame51.jpg', 'frame52.jpg', 'frame53.jpg', 'frame54.jpg', 'frame55.jpg', 'frame56.jpg', 'frame57.jpg', 'frame58.jpg', 'frame59.jpg', 'frame6.jpg', 'frame60.jpg', 'frame61.jpg', 'frame62.jpg', 'frame7.jpg', 'frame8.jpg', 'frame9.jpg']\n"
     ]
    }
   ],
   "source": [
    "from PIL import Image\n",
    "import os, sys\n",
    "path = \"/home/til/Video/code/Images/\"\n",
    "path1 = \"/home/til/Video/code/resize/\"\n",
    "dirs = sorted(os.listdir( path ))\n",
    "print (dirs)\n",
    "def resize():\n",
    "    for item in dirs:\n",
    "        if os.path.isfile(path+item):\n",
    "            im = Image.open(path+item).convert(\"RGB\")\n",
    "            f, e = os.path.splitext(path+item)\n",
    "            imResize = im.resize((96,64), Image.ANTIALIAS)\n",
    "            imResize.save(f + '.jpg', 'JPEG', quality=90)\n",
    "\n",
    "resize()"
   ]
  },
  {
   "cell_type": "code",
   "execution_count": 16,
   "metadata": {},
   "outputs": [
    {
     "name": "stdout",
     "output_type": "stream",
     "text": [
      "<class 'PIL.JpegImagePlugin.JpegImageFile'>\n",
      "JPEG\n",
      "RGB\n",
      "(96, 64)\n"
     ]
    }
   ],
   "source": [
    "from keras.preprocessing.image import load_img\n",
    "# load the image\n",
    "img = load_img('/home/til/Video/code/Images/frame1.jpg')\n",
    "# report details about the image\n",
    "print(type(img))\n",
    "print(img.format)\n",
    "print(img.mode)\n",
    "print(img.size)\n",
    "# show the image\n",
    "img.show()"
   ]
  },
  {
   "cell_type": "code",
   "execution_count": 63,
   "metadata": {},
   "outputs": [],
   "source": [
    "images = []\n",
    "for item in dirs:\n",
    "    if os.path.isfile(path+item):\n",
    "        img =  cv2.imread(path+item)\n",
    "        img_gray = cv2.cvtColor(img, cv2.COLOR_BGR2GRAY)\n",
    "\n",
    "        X = np.array(img_gray)\n",
    "        X = X.astype('float32')\n",
    "        #Normalize X\n",
    "        X /= 255.0\n",
    "\n",
    "        images.append(X)\n",
    "    \n",
    "    \n",
    "# convert to RGB, if needed\n",
    "   # img = img.convert('RGB')\n",
    "# convert to array\n",
    "   \n",
    "  \n",
    "    \n",
    "images = np.array(images)"
   ]
  },
  {
   "cell_type": "code",
   "execution_count": 64,
   "metadata": {},
   "outputs": [
    {
     "name": "stdout",
     "output_type": "stream",
     "text": [
      "(63, 64, 96)\n"
     ]
    }
   ],
   "source": [
    "print(images.shape)"
   ]
  },
  {
   "cell_type": "code",
   "execution_count": 65,
   "metadata": {},
   "outputs": [],
   "source": [
    " x_train = images\n"
   ]
  },
  {
   "cell_type": "code",
   "execution_count": 66,
   "metadata": {},
   "outputs": [],
   "source": [
    "import os\n",
    "import sys\n",
    "import random\n",
    "import warnings\n",
    "from pylab import imshow, show, get_cmap\n",
    "\n",
    "import numpy as np\n",
    "import pandas as pd\n",
    "\n",
    "import matplotlib.pyplot as plt\n",
    "\n",
    "from tqdm import tqdm\n",
    "from itertools import chain\n",
    "import skimage\n",
    "from PIL import Image\n",
    "from skimage.io import imread, imshow, imread_collection, concatenate_images\n",
    "from skimage.transform import resize\n",
    "from skimage.util import crop, pad\n",
    "from skimage.morphology import label\n",
    "\n",
    "from keras.models import Model, load_model, Sequential\n",
    "from keras.layers import Input, Dense, UpSampling2D, Flatten, Reshape\n",
    "from keras.layers.core import Dropout, Lambda\n",
    "from keras.layers.convolutional import Conv2D, Conv2DTranspose\n",
    "from keras.layers.pooling import MaxPooling2D\n",
    "from keras.layers.merge import concatenate\n",
    "from keras.callbacks import EarlyStopping, ModelCheckpoint, ReduceLROnPlateau, Callback\n",
    "from keras import backend as K\n",
    "import tensorflow as tf\n",
    "\n",
    "warnings.filterwarnings('ignore', category=UserWarning, module='skimage')\n",
    "seed = 42\n",
    "random.seed = seed\n",
    "np.random.seed = seed\n"
   ]
  },
  {
   "cell_type": "code",
   "execution_count": null,
   "metadata": {},
   "outputs": [],
   "source": []
  },
  {
   "cell_type": "code",
   "execution_count": 67,
   "metadata": {},
   "outputs": [],
   "source": [
    "    IMG_WIDTH = 96\n",
    "    IMG_HEIGHT = 64\n",
    "    IMG_CHANNELS = 3"
   ]
  },
  {
   "cell_type": "code",
   "execution_count": 69,
   "metadata": {},
   "outputs": [],
   "source": [
    "INPUT_SHAPE = (64, 96, 1) "
   ]
  },
  {
   "cell_type": "code",
   "execution_count": 70,
   "metadata": {},
   "outputs": [
    {
     "name": "stdout",
     "output_type": "stream",
     "text": [
      "Model: \"model_9\"\n",
      "_________________________________________________________________\n",
      "Layer (type)                 Output Shape              Param #   \n",
      "=================================================================\n",
      "input_7 (InputLayer)         (None, 64, 96, 1)         0         \n",
      "_________________________________________________________________\n",
      "encode1 (Conv2D)             (None, 64, 96, 128)       2176      \n",
      "_________________________________________________________________\n",
      "encode2 (Conv2D)             (None, 64, 96, 64)        73792     \n",
      "_________________________________________________________________\n",
      "max_pooling2d_17 (MaxPooling (None, 32, 48, 64)        0         \n",
      "_________________________________________________________________\n",
      "encode3 (Conv2D)             (None, 32, 48, 64)        36928     \n",
      "_________________________________________________________________\n",
      "encode4 (Conv2D)             (None, 32, 48, 32)        8224      \n",
      "_________________________________________________________________\n",
      "max_pooling2d_18 (MaxPooling (None, 16, 24, 32)        0         \n",
      "_________________________________________________________________\n",
      "encode5 (Conv2D)             (None, 16, 24, 64)        18496     \n",
      "_________________________________________________________________\n",
      "encode6 (Conv2D)             (None, 16, 24, 32)        8224      \n",
      "_________________________________________________________________\n",
      "max_pooling2d_19 (MaxPooling (None, 8, 12, 32)         0         \n",
      "_________________________________________________________________\n",
      "encode7 (Conv2D)             (None, 8, 12, 64)         18496     \n",
      "_________________________________________________________________\n",
      "encode8 (Conv2D)             (None, 8, 12, 32)         8224      \n",
      "_________________________________________________________________\n",
      "max_pooling2d_20 (MaxPooling (None, 4, 6, 32)          0         \n",
      "_________________________________________________________________\n",
      "encode9 (Conv2D)             (None, 4, 6, 32)          9248      \n",
      "_________________________________________________________________\n",
      "flatten_5 (Flatten)          (None, 768)               0         \n",
      "_________________________________________________________________\n",
      "encode10 (Dense)             (None, 256)               196864    \n",
      "_________________________________________________________________\n",
      "encode11 (Dense)             (None, 128)               32896     \n",
      "=================================================================\n",
      "Total params: 413,568\n",
      "Trainable params: 413,568\n",
      "Non-trainable params: 0\n",
      "_________________________________________________________________\n"
     ]
    }
   ],
   "source": [
    "from keras.layers import Input, Dense, UpSampling2D, Flatten, Reshape\n",
    "\n",
    "def Encoder():\n",
    "    inp = Input(shape=INPUT_SHAPE)\n",
    "    x = Conv2D(128, (4, 4), activation='elu', padding='same',name='encode1')(inp)\n",
    "    x = Conv2D(64, (3, 3), activation='elu', padding='same',name='encode2')(x)\n",
    "    x = MaxPooling2D((2, 2), padding='same')(x)\n",
    "    x = Conv2D(64, (3, 3), activation='elu', padding='same',name='encode3')(x)\n",
    "    x = Conv2D(32, (2, 2), activation='elu', padding='same',name='encode4')(x)\n",
    "    x = MaxPooling2D((2, 2), padding='same')(x)\n",
    "    x = Conv2D(64, (3, 3), activation='elu', padding='same',name='encode5')(x)\n",
    "    x = Conv2D(32, (2, 2), activation='elu', padding='same',name='encode6')(x)\n",
    "    x = MaxPooling2D((2, 2), padding='same')(x)\n",
    "    x = Conv2D(64, (3, 3), activation='elu', padding='same',name='encode7')(x)\n",
    "    x = Conv2D(32, (2, 2), activation='elu', padding='same',name='encode8')(x)\n",
    "    x = MaxPooling2D((2, 2), padding='same')(x)\n",
    "    x = Conv2D(32, (3, 3), activation='elu', padding='same',name='encode9')(x)\n",
    "    x = Flatten()(x)\n",
    "    x = Dense(256, activation='elu',name='encode10')(x)\n",
    "    encoded = Dense(128, activation='sigmoid',name='encode11')(x)\n",
    "    return Model(inp, encoded)\n",
    "\n",
    "encoder = Encoder()\n",
    "encoder.summary()\n"
   ]
  },
  {
   "cell_type": "code",
   "execution_count": 73,
   "metadata": {},
   "outputs": [],
   "source": [
    "learning_rate_reduction = ReduceLROnPlateau(monitor='val_loss', \n",
    "                                            patience=4, \n",
    "                                            verbose=1, \n",
    "                                            factor=0.5,\n",
    "                                            min_lr=0.00001)\n",
    "\n",
    "checkpoint = ModelCheckpoint(\"Dancer_Auto_Model.hdf5\",\n",
    "                             save_best_only=True,\n",
    "                             monitor='val_loss',\n",
    "                             mode='min')\n",
    "\n",
    "early_stopping = EarlyStopping(monitor='val_loss',\n",
    "                              patience=8,\n",
    "                              verbose=1,\n",
    "                              mode='min',\n",
    "                              restore_best_weights=True)"
   ]
  },
  {
   "cell_type": "code",
   "execution_count": 74,
   "metadata": {},
   "outputs": [
    {
     "data": {
      "text/plain": [
       "<matplotlib.image.AxesImage at 0x7f0cbc14dbe0>"
      ]
     },
     "execution_count": 74,
     "metadata": {},
     "output_type": "execute_result"
    },
    {
     "data": {
      "image/png": "[encoded data removed]",
      "text/plain": [
       "<Figure size 432x288 with 1 Axes>"
      ]
     },
     "metadata": {
      "needs_background": "light"
     },
     "output_type": "display_data"
    }
   ],
   "source": [
    "class ImgSample(Callback):\n",
    "\n",
    "    def __init__(self):\n",
    "       super(Callback, self).__init__() \n",
    "\n",
    "    def on_epoch_end(self, epoch, logs={}):\n",
    "        sample_img = x_train[50]\n",
    "        sample_img = sample_img.reshape(1, IMG_HEIGHT, IMG_WIDTH, 1)\n",
    "        sample_img = self.model.predict(sample_img)[0]\n",
    "        imshow(sample_img.reshape(IMG_HEIGHT,IMG_WIDTH))\n",
    "        plt.show()\n",
    "\n",
    "\n",
    "imgsample = ImgSample()\n",
    "model_callbacks = [learning_rate_reduction, checkpoint, early_stopping, imgsample]\n",
    "imshow(x_train[50].reshape(IMG_HEIGHT,IMG_WIDTH))"
   ]
  },
  {
   "cell_type": "code",
   "execution_count": 82,
   "metadata": {},
   "outputs": [],
   "source": [
    "encoder = Encoder()\n",
    "\n",
    "\n",
    "encoder.load_weights(\"Auto_Weights.hdf5\", by_name=True)\n",
    "\n",
    "\n",
    "\n",
    "\n",
    "encoder.save('Encoder_Model.hdf5')\n",
    "\n",
    "decoder.save_weights(\"Decoder_Weights.hdf5\")\n",
    "encoder.save_weights(\"Encoder_Weights.hdf5\")"
   ]
  },
  {
   "cell_type": "code",
   "execution_count": 84,
   "metadata": {},
   "outputs": [
    {
     "name": "stdout",
     "output_type": "stream",
     "text": [
      "(63, 128)\n"
     ]
    }
   ],
   "source": [
    "encoder_imgs = encoder.predict(x1)\n",
    "print(encoder_imgs.shape)\n",
    "np.save('Encoded.npy',encoder_imgs)"
   ]
  },
  {
   "cell_type": "code",
   "execution_count": 85,
   "metadata": {},
   "outputs": [
    {
     "data": {
      "image/png": "[encoded data removed]",
      "text/plain": [
       "<Figure size 1440x288 with 5 Axes>"
      ]
     },
     "metadata": {
      "needs_background": "light"
     },
     "output_type": "display_data"
    }
   ],
   "source": [
    "decoded_imgs = decoder.predict(encoder_imgs[0:11])\n",
    "\n",
    "plt.figure(figsize=(20, 4))\n",
    "for i in range(5,10):\n",
    "    # reconstruction\n",
    "    plt.subplot(1, 10, i + 1)\n",
    "    plt.imshow(decoded_imgs[i].reshape(IMG_HEIGHT, IMG_WIDTH))\n",
    "    plt.axis('off')\n",
    " \n",
    "plt.tight_layout()\n",
    "plt.show()"
   ]
  },
  {
   "cell_type": "code",
   "execution_count": 87,
   "metadata": {},
   "outputs": [],
   "source": [
    " Data = encoder_imgs"
   ]
  },
  {
   "cell_type": "code",
   "execution_count": 89,
   "metadata": {},
   "outputs": [
    {
     "name": "stdout",
     "output_type": "stream",
     "text": [
      "(43, 20, 128)\n",
      "(43, 128)\n"
     ]
    }
   ],
   "source": [
    "TRAIN_SIZE = Data.shape[0]\n",
    "INPUT_SIZE = Data.shape[1]\n",
    "SEQUENCE_LENGTH = 20\n",
    "\n",
    "X_train = np.zeros((TRAIN_SIZE-SEQUENCE_LENGTH, SEQUENCE_LENGTH, INPUT_SIZE), dtype='float32')\n",
    "Y_train = np.zeros((TRAIN_SIZE-SEQUENCE_LENGTH, INPUT_SIZE), dtype='float32')\n",
    "for i in range(0, TRAIN_SIZE-SEQUENCE_LENGTH, 1 ): \n",
    "    X_train[i] = Data[i:i + SEQUENCE_LENGTH]\n",
    "    Y_train[i] = Data[i + SEQUENCE_LENGTH]\n",
    "\n",
    "print(X_train.shape)\n",
    "print(Y_train.shape)"
   ]
  },
  {
   "cell_type": "code",
   "execution_count": 96,
   "metadata": {},
   "outputs": [],
   "source": [
    "import numpy as np\n",
    "import pandas as pd\n",
    "import keras as K\n",
    "import random\n",
    "import sqlite3\n",
    "import cv2\n",
    "import os\n",
    "\n",
    "from skimage.color import rgb2gray, gray2rgb\n",
    "from skimage.transform import resize\n",
    "from skimage.io import imread, imshow\n",
    "import matplotlib.pyplot as plt\n",
    "\n",
    "from keras.layers import Input, Dropout, Dense, concatenate, Embedding\n",
    "from keras.layers import Flatten, Activation\n",
    "from keras.optimizers import Adam\n",
    "from keras.models import Model\n",
    "from keras.utils import np_utils\n",
    "\n",
    "from keras.preprocessing import sequence\n",
    "from keras.models import Sequential\n",
    "from keras.models import load_model\n",
    "from keras.layers import LSTM, CuDNNGRU, CuDNNLSTM\n",
    "from keras.layers import MaxPooling1D\n",
    "from keras.callbacks import EarlyStopping, ModelCheckpoint, Callback\n",
    "from tensorflow.python.compiler.tensorrt import trt_convert as trt\n",
    "import warnings\n",
    "warnings.filterwarnings('ignore')"
   ]
  },
  {
   "cell_type": "code",
   "execution_count": 98,
   "metadata": {},
   "outputs": [
    {
     "name": "stdout",
     "output_type": "stream",
     "text": [
      "Model: \"model_14\"\n",
      "_________________________________________________________________\n",
      "Layer (type)                 Output Shape              Param #   \n",
      "=================================================================\n",
      "input_15 (InputLayer)        (None, 20, 128)           0         \n",
      "_________________________________________________________________\n",
      "lstm_1 (LSTM)                (None, 20, 512)           1312768   \n",
      "_________________________________________________________________\n",
      "lstm_2 (LSTM)                (None, 20, 256)           787456    \n",
      "_________________________________________________________________\n",
      "lstm_3 (LSTM)                (None, 20, 512)           1574912   \n",
      "_________________________________________________________________\n",
      "lstm_4 (LSTM)                (None, 20, 256)           787456    \n",
      "_________________________________________________________________\n",
      "lstm_5 (LSTM)                (None, 20, 512)           1574912   \n",
      "_________________________________________________________________\n",
      "lstm_6 (LSTM)                (None, 1024)              6295552   \n",
      "_________________________________________________________________\n",
      "dense_1 (Dense)              (None, 512)               524800    \n",
      "_________________________________________________________________\n",
      "dense_2 (Dense)              (None, 256)               131328    \n",
      "_________________________________________________________________\n",
      "dense_3 (Dense)              (None, 128)               32896     \n",
      "=================================================================\n",
      "Total params: 13,022,080\n",
      "Trainable params: 13,022,080\n",
      "Non-trainable params: 0\n",
      "_________________________________________________________________\n"
     ]
    }
   ],
   "source": [
    "\n",
    "\n",
    "def get_model():\n",
    "    inp = Input(shape=(SEQUENCE_LENGTH, INPUT_SIZE))\n",
    "    x = LSTM(512, return_sequences=True,)(inp)\n",
    "    x = LSTM(256, return_sequences=True,)(x)\n",
    "    x = LSTM(512, return_sequences=True,)(x)\n",
    "    x = LSTM(256, return_sequences=True,)(x)\n",
    "    x = LSTM(512, return_sequences=True,)(x)\n",
    "    x = LSTM(1024,)(x)\n",
    "    x = Dense(512, activation=\"elu\")(x)\n",
    "    x = Dense(256, activation=\"elu\")(x)\n",
    "    outp = Dense(INPUT_SIZE, activation='sigmoid')(x)\n",
    "    \n",
    "    model = Model(inputs=inp, outputs=outp)\n",
    "    model.compile(loss='mse',\n",
    "                  optimizer=Adam(lr=0.0002),\n",
    "                  metrics=['accuracy'],\n",
    "                 )\n",
    "\n",
    "    return model\n",
    "\n",
    "model = get_model()\n",
    "\n",
    "model.summary()"
   ]
  },
  {
   "cell_type": "code",
   "execution_count": 99,
   "metadata": {},
   "outputs": [],
   "source": [
    "\n",
    "filepath=\"RNN_Model.hdf5\"\n",
    "\n",
    "checkpoint = ModelCheckpoint(filepath,\n",
    "                             monitor='loss',\n",
    "                             verbose=1,\n",
    "                             save_best_only=True,\n",
    "                             mode='min')\n",
    "\n",
    "early = EarlyStopping(monitor=\"loss\",\n",
    "                      mode=\"min\",\n",
    "                      patience=3,\n",
    "                     restore_best_weights=True)"
   ]
  },
  {
   "cell_type": "code",
   "execution_count": 100,
   "metadata": {},
   "outputs": [
    {
     "name": "stdout",
     "output_type": "stream",
     "text": [
      "Epoch 1/60\n",
      " - 1s - loss: 0.0746 - accuracy: 0.0000e+00\n",
      "\n",
      "Epoch 00001: loss improved from inf to 0.07459, saving model to RNN_Model.hdf5\n",
      "Epoch 2/60\n",
      " - 0s - loss: 0.0730 - accuracy: 0.0000e+00\n",
      "\n",
      "Epoch 00002: loss improved from 0.07459 to 0.07300, saving model to RNN_Model.hdf5\n",
      "Epoch 3/60\n",
      " - 0s - loss: 0.0703 - accuracy: 0.0000e+00\n",
      "\n",
      "Epoch 00003: loss improved from 0.07300 to 0.07026, saving model to RNN_Model.hdf5\n",
      "Epoch 4/60\n",
      " - 0s - loss: 0.0651 - accuracy: 1.0000\n",
      "\n",
      "Epoch 00004: loss improved from 0.07026 to 0.06509, saving model to RNN_Model.hdf5\n",
      "Epoch 5/60\n",
      " - 0s - loss: 0.0561 - accuracy: 1.0000\n",
      "\n",
      "Epoch 00005: loss improved from 0.06509 to 0.05613, saving model to RNN_Model.hdf5\n",
      "Epoch 6/60\n",
      " - 0s - loss: 0.0427 - accuracy: 1.0000\n",
      "\n",
      "Epoch 00006: loss improved from 0.05613 to 0.04269, saving model to RNN_Model.hdf5\n",
      "Epoch 7/60\n",
      " - 0s - loss: 0.0295 - accuracy: 1.0000\n",
      "\n",
      "Epoch 00007: loss improved from 0.04269 to 0.02949, saving model to RNN_Model.hdf5\n",
      "Epoch 8/60\n",
      " - 0s - loss: 0.0211 - accuracy: 1.0000\n",
      "\n",
      "Epoch 00008: loss improved from 0.02949 to 0.02114, saving model to RNN_Model.hdf5\n",
      "Epoch 9/60\n",
      " - 0s - loss: 0.0168 - accuracy: 1.0000\n",
      "\n",
      "Epoch 00009: loss improved from 0.02114 to 0.01683, saving model to RNN_Model.hdf5\n",
      "Epoch 10/60\n",
      " - 0s - loss: 0.0138 - accuracy: 0.0000e+00\n",
      "\n",
      "Epoch 00010: loss improved from 0.01683 to 0.01381, saving model to RNN_Model.hdf5\n",
      "Epoch 11/60\n",
      " - 0s - loss: 0.0118 - accuracy: 0.0000e+00\n",
      "\n",
      "Epoch 00011: loss improved from 0.01381 to 0.01176, saving model to RNN_Model.hdf5\n",
      "Epoch 12/60\n",
      " - 0s - loss: 0.0101 - accuracy: 0.0000e+00\n",
      "\n",
      "Epoch 00012: loss improved from 0.01176 to 0.01013, saving model to RNN_Model.hdf5\n",
      "Epoch 13/60\n",
      " - 0s - loss: 0.0087 - accuracy: 0.0000e+00\n",
      "\n",
      "Epoch 00013: loss improved from 0.01013 to 0.00866, saving model to RNN_Model.hdf5\n",
      "Epoch 14/60\n",
      " - 0s - loss: 0.0075 - accuracy: 1.0000\n",
      "\n",
      "Epoch 00014: loss improved from 0.00866 to 0.00750, saving model to RNN_Model.hdf5\n",
      "Epoch 15/60\n",
      " - 0s - loss: 0.0064 - accuracy: 1.0000\n",
      "\n",
      "Epoch 00015: loss improved from 0.00750 to 0.00642, saving model to RNN_Model.hdf5\n",
      "Epoch 16/60\n",
      " - 0s - loss: 0.0055 - accuracy: 1.0000\n",
      "\n",
      "Epoch 00016: loss improved from 0.00642 to 0.00548, saving model to RNN_Model.hdf5\n",
      "Epoch 17/60\n",
      " - 0s - loss: 0.0047 - accuracy: 1.0000\n",
      "\n",
      "Epoch 00017: loss improved from 0.00548 to 0.00474, saving model to RNN_Model.hdf5\n",
      "Epoch 18/60\n",
      " - 0s - loss: 0.0041 - accuracy: 1.0000\n",
      "\n",
      "Epoch 00018: loss improved from 0.00474 to 0.00406, saving model to RNN_Model.hdf5\n",
      "Epoch 19/60\n",
      " - 0s - loss: 0.0035 - accuracy: 1.0000\n",
      "\n",
      "Epoch 00019: loss improved from 0.00406 to 0.00346, saving model to RNN_Model.hdf5\n",
      "Epoch 20/60\n",
      " - 0s - loss: 0.0030 - accuracy: 1.0000\n",
      "\n",
      "Epoch 00020: loss improved from 0.00346 to 0.00301, saving model to RNN_Model.hdf5\n",
      "Epoch 21/60\n",
      " - 0s - loss: 0.0027 - accuracy: 1.0000\n",
      "\n",
      "Epoch 00021: loss improved from 0.00301 to 0.00274, saving model to RNN_Model.hdf5\n",
      "Epoch 22/60\n",
      " - 0s - loss: 0.0026 - accuracy: 1.0000\n",
      "\n",
      "Epoch 00022: loss improved from 0.00274 to 0.00259, saving model to RNN_Model.hdf5\n",
      "Epoch 23/60\n",
      " - 0s - loss: 0.0025 - accuracy: 1.0000\n",
      "\n",
      "Epoch 00023: loss improved from 0.00259 to 0.00248, saving model to RNN_Model.hdf5\n",
      "Epoch 24/60\n",
      " - 0s - loss: 0.0023 - accuracy: 1.0000\n",
      "\n",
      "Epoch 00024: loss improved from 0.00248 to 0.00234, saving model to RNN_Model.hdf5\n",
      "Epoch 25/60\n",
      " - 0s - loss: 0.0022 - accuracy: 1.0000\n",
      "\n",
      "Epoch 00025: loss improved from 0.00234 to 0.00216, saving model to RNN_Model.hdf5\n",
      "Epoch 26/60\n",
      " - 0s - loss: 0.0020 - accuracy: 1.0000\n",
      "\n",
      "Epoch 00026: loss improved from 0.00216 to 0.00196, saving model to RNN_Model.hdf5\n",
      "Epoch 27/60\n",
      " - 0s - loss: 0.0018 - accuracy: 1.0000\n",
      "\n",
      "Epoch 00027: loss improved from 0.00196 to 0.00178, saving model to RNN_Model.hdf5\n",
      "Epoch 28/60\n",
      " - 0s - loss: 0.0016 - accuracy: 1.0000\n",
      "\n",
      "Epoch 00028: loss improved from 0.00178 to 0.00162, saving model to RNN_Model.hdf5\n",
      "Epoch 29/60\n",
      " - 0s - loss: 0.0015 - accuracy: 1.0000\n",
      "\n",
      "Epoch 00029: loss improved from 0.00162 to 0.00150, saving model to RNN_Model.hdf5\n",
      "Epoch 30/60\n",
      " - 0s - loss: 0.0014 - accuracy: 1.0000\n",
      "\n",
      "Epoch 00030: loss improved from 0.00150 to 0.00143, saving model to RNN_Model.hdf5\n",
      "Epoch 31/60\n",
      " - 0s - loss: 0.0014 - accuracy: 1.0000\n",
      "\n",
      "Epoch 00031: loss improved from 0.00143 to 0.00141, saving model to RNN_Model.hdf5\n",
      "Epoch 32/60\n",
      " - 0s - loss: 0.0014 - accuracy: 1.0000\n",
      "\n",
      "Epoch 00032: loss improved from 0.00141 to 0.00140, saving model to RNN_Model.hdf5\n",
      "Epoch 33/60\n",
      " - 0s - loss: 0.0013 - accuracy: 1.0000\n",
      "\n",
      "Epoch 00033: loss improved from 0.00140 to 0.00135, saving model to RNN_Model.hdf5\n",
      "Epoch 34/60\n",
      " - 0s - loss: 0.0013 - accuracy: 1.0000\n",
      "\n",
      "Epoch 00034: loss improved from 0.00135 to 0.00128, saving model to RNN_Model.hdf5\n",
      "Epoch 35/60\n",
      " - 0s - loss: 0.0012 - accuracy: 1.0000\n",
      "\n",
      "Epoch 00035: loss improved from 0.00128 to 0.00121, saving model to RNN_Model.hdf5\n",
      "Epoch 36/60\n",
      " - 0s - loss: 0.0012 - accuracy: 1.0000\n",
      "\n",
      "Epoch 00036: loss improved from 0.00121 to 0.00116, saving model to RNN_Model.hdf5\n",
      "Epoch 37/60\n",
      " - 0s - loss: 0.0011 - accuracy: 1.0000\n",
      "\n",
      "Epoch 00037: loss improved from 0.00116 to 0.00110, saving model to RNN_Model.hdf5\n",
      "Epoch 38/60\n",
      " - 0s - loss: 0.0011 - accuracy: 1.0000\n",
      "\n",
      "Epoch 00038: loss improved from 0.00110 to 0.00105, saving model to RNN_Model.hdf5\n",
      "Epoch 39/60\n",
      " - 0s - loss: 0.0010 - accuracy: 1.0000\n",
      "\n",
      "Epoch 00039: loss improved from 0.00105 to 0.00102, saving model to RNN_Model.hdf5\n",
      "Epoch 40/60\n",
      " - 0s - loss: 0.0010 - accuracy: 1.0000\n",
      "\n",
      "Epoch 00040: loss improved from 0.00102 to 0.00101, saving model to RNN_Model.hdf5\n",
      "Epoch 41/60\n",
      " - 0s - loss: 0.0010 - accuracy: 1.0000\n",
      "\n",
      "Epoch 00041: loss did not improve from 0.00101\n",
      "Epoch 42/60\n",
      " - 0s - loss: 0.0010 - accuracy: 1.0000\n",
      "\n",
      "Epoch 00042: loss improved from 0.00101 to 0.00101, saving model to RNN_Model.hdf5\n",
      "Epoch 43/60\n",
      " - 0s - loss: 9.8916e-04 - accuracy: 1.0000\n",
      "\n",
      "Epoch 00043: loss improved from 0.00101 to 0.00099, saving model to RNN_Model.hdf5\n",
      "Epoch 44/60\n",
      " - 0s - loss: 9.6719e-04 - accuracy: 1.0000\n",
      "\n",
      "Epoch 00044: loss improved from 0.00099 to 0.00097, saving model to RNN_Model.hdf5\n",
      "Epoch 45/60\n",
      " - 1s - loss: 9.4844e-04 - accuracy: 1.0000\n",
      "\n",
      "Epoch 00045: loss improved from 0.00097 to 0.00095, saving model to RNN_Model.hdf5\n",
      "Epoch 46/60\n",
      " - 0s - loss: 9.3646e-04 - accuracy: 1.0000\n",
      "\n",
      "Epoch 00046: loss improved from 0.00095 to 0.00094, saving model to RNN_Model.hdf5\n",
      "Epoch 47/60\n",
      " - 0s - loss: 9.2849e-04 - accuracy: 1.0000\n",
      "\n",
      "Epoch 00047: loss improved from 0.00094 to 0.00093, saving model to RNN_Model.hdf5\n",
      "Epoch 48/60\n",
      " - 0s - loss: 9.1994e-04 - accuracy: 1.0000\n",
      "\n",
      "Epoch 00048: loss improved from 0.00093 to 0.00092, saving model to RNN_Model.hdf5\n",
      "Epoch 49/60\n",
      " - 0s - loss: 9.0918e-04 - accuracy: 1.0000\n",
      "\n",
      "Epoch 00049: loss improved from 0.00092 to 0.00091, saving model to RNN_Model.hdf5\n",
      "Epoch 50/60\n",
      " - 0s - loss: 8.9785e-04 - accuracy: 1.0000\n",
      "\n",
      "Epoch 00050: loss improved from 0.00091 to 0.00090, saving model to RNN_Model.hdf5\n",
      "Epoch 51/60\n",
      " - 0s - loss: 8.8752e-04 - accuracy: 1.0000\n",
      "\n",
      "Epoch 00051: loss improved from 0.00090 to 0.00089, saving model to RNN_Model.hdf5\n",
      "Epoch 52/60\n",
      " - 0s - loss: 8.7804e-04 - accuracy: 1.0000\n",
      "\n",
      "Epoch 00052: loss improved from 0.00089 to 0.00088, saving model to RNN_Model.hdf5\n",
      "Epoch 53/60\n",
      " - 0s - loss: 8.6939e-04 - accuracy: 0.0000e+00\n",
      "\n",
      "Epoch 00053: loss improved from 0.00088 to 0.00087, saving model to RNN_Model.hdf5\n",
      "Epoch 54/60\n",
      " - 0s - loss: 8.6250e-04 - accuracy: 0.0000e+00\n",
      "\n",
      "Epoch 00054: loss improved from 0.00087 to 0.00086, saving model to RNN_Model.hdf5\n",
      "Epoch 55/60\n",
      " - 0s - loss: 8.5743e-04 - accuracy: 0.0000e+00\n",
      "\n",
      "Epoch 00055: loss improved from 0.00086 to 0.00086, saving model to RNN_Model.hdf5\n",
      "Epoch 56/60\n",
      " - 0s - loss: 8.5304e-04 - accuracy: 0.0000e+00\n",
      "\n",
      "Epoch 00056: loss improved from 0.00086 to 0.00085, saving model to RNN_Model.hdf5\n",
      "Epoch 57/60\n",
      " - 0s - loss: 8.4924e-04 - accuracy: 0.0000e+00\n",
      "\n",
      "Epoch 00057: loss improved from 0.00085 to 0.00085, saving model to RNN_Model.hdf5\n",
      "Epoch 58/60\n",
      " - 0s - loss: 8.4685e-04 - accuracy: 0.0000e+00\n",
      "\n",
      "Epoch 00058: loss improved from 0.00085 to 0.00085, saving model to RNN_Model.hdf5\n",
      "Epoch 59/60\n",
      " - 0s - loss: 8.4503e-04 - accuracy: 1.0000\n",
      "\n",
      "Epoch 00059: loss improved from 0.00085 to 0.00085, saving model to RNN_Model.hdf5\n",
      "Epoch 60/60\n",
      " - 0s - loss: 8.4167e-04 - accuracy: 1.0000\n",
      "\n",
      "Epoch 00060: loss improved from 0.00085 to 0.00084, saving model to RNN_Model.hdf5\n"
     ]
    },
    {
     "data": {
      "text/plain": [
       "<keras.callbacks.callbacks.History at 0x7f0c800b3fd0>"
      ]
     },
     "execution_count": 100,
     "metadata": {},
     "output_type": "execute_result"
    }
   ],
   "source": [
    "model_callbacks = [checkpoint, early]\n",
    "model.fit(X_train, Y_train,\n",
    "          batch_size=64,\n",
    "          epochs=60,\n",
    "          verbose=2,\n",
    "          callbacks = model_callbacks)\n"
   ]
  },
  {
   "cell_type": "code",
   "execution_count": 101,
   "metadata": {},
   "outputs": [],
   "source": [
    "model.save(filepath)\n",
    "model.save_weights('RNN_Weights.hdf5')\n"
   ]
  },
  {
   "cell_type": "code",
   "execution_count": null,
   "metadata": {},
   "outputs": [],
   "source": []
  }
 ],
 "metadata": {
  "kernelspec": {
   "display_name": "Python 3",
   "language": "python",
   "name": "python3"
  },
  "language_info": {
   "codemirror_mode": {
    "name": "ipython",
    "version": 3
   },
   "file_extension": ".py",
   "mimetype": "text/x-python",
   "name": "python",
   "nbconvert_exporter": "python",
   "pygments_lexer": "ipython3",
   "version": "3.7.6"
  }
 },
 "nbformat": 4,
 "nbformat_minor": 2
}
